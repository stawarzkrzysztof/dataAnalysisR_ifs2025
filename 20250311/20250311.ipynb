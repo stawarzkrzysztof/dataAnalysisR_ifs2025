{
 "cells": [
  {
   "cell_type": "code",
   "execution_count": 1,
   "metadata": {
    "vscode": {
     "languageId": "r"
    }
   },
   "outputs": [
    {
     "name": "stderr",
     "output_type": "stream",
     "text": [
      "── \u001b[1mAttaching core tidyverse packages\u001b[22m ──────────────────────── tidyverse 2.0.0 ──\n",
      "\u001b[32m✔\u001b[39m \u001b[34mdplyr    \u001b[39m 1.1.4     \u001b[32m✔\u001b[39m \u001b[34mreadr    \u001b[39m 2.1.5\n",
      "\u001b[32m✔\u001b[39m \u001b[34mforcats  \u001b[39m 1.0.0     \u001b[32m✔\u001b[39m \u001b[34mstringr  \u001b[39m 1.5.1\n",
      "\u001b[32m✔\u001b[39m \u001b[34mggplot2  \u001b[39m 3.5.1     \u001b[32m✔\u001b[39m \u001b[34mtibble   \u001b[39m 3.2.1\n",
      "\u001b[32m✔\u001b[39m \u001b[34mlubridate\u001b[39m 1.9.4     \u001b[32m✔\u001b[39m \u001b[34mtidyr    \u001b[39m 1.3.1\n",
      "\u001b[32m✔\u001b[39m \u001b[34mpurrr    \u001b[39m 1.0.4     \n",
      "── \u001b[1mConflicts\u001b[22m ────────────────────────────────────────── tidyverse_conflicts() ──\n",
      "\u001b[31m✖\u001b[39m \u001b[34mdplyr\u001b[39m::\u001b[32mfilter()\u001b[39m masks \u001b[34mstats\u001b[39m::filter()\n",
      "\u001b[31m✖\u001b[39m \u001b[34mdplyr\u001b[39m::\u001b[32mlag()\u001b[39m    masks \u001b[34mstats\u001b[39m::lag()\n",
      "\u001b[36mℹ\u001b[39m Use the conflicted package (\u001b[3m\u001b[34m<http://conflicted.r-lib.org/>\u001b[39m\u001b[23m) to force all conflicts to become errors\n"
     ]
    }
   ],
   "source": [
    "library(tidyverse)\n",
    "plot_scale <- 1\n",
    "options(jupyter.rich_display = FALSE,\n",
    "        repr.plot.width = 16/plot_scale,\n",
    "        repr.plot.height = 9/plot_scale)"
   ]
  },
  {
   "cell_type": "code",
   "execution_count": 2,
   "metadata": {
    "vscode": {
     "languageId": "r"
    }
   },
   "outputs": [],
   "source": [
    "baza1 <- read.csv(\"/Users/stawager/Repos/dataAnalysisR_ifs2025/dane20250311/pracownicy UPJP2.csv\",\n",
    "                  header = TRUE)"
   ]
  },
  {
   "cell_type": "code",
   "execution_count": 3,
   "metadata": {
    "vscode": {
     "languageId": "r"
    }
   },
   "outputs": [
    {
     "data": {
      "text/plain": [
       "[1]  36 189"
      ]
     },
     "metadata": {},
     "output_type": "display_data"
    }
   ],
   "source": [
    "dim(baza1)"
   ]
  },
  {
   "cell_type": "code",
   "execution_count": 4,
   "metadata": {
    "vscode": {
     "languageId": "r"
    }
   },
   "outputs": [
    {
     "data": {
      "text/plain": [
       " [1] \"Lp.\"                                                                                      \n",
       " [2] \"ID\"                                                                                       \n",
       " [3] \"Data.rozpoczęcia\"                                                                         \n",
       " [4] \"Data.zakończenia\"                                                                         \n",
       " [5] \"Całkowity.czas.wypełniania\"                                                               \n",
       " [6] \"Rzeczywisty.czas.wypełniania\"                                                             \n",
       " [7] \"X1..W.jakiej.jednostce.uczelni.Pani.Pan.pracuje.\"                                         \n",
       " [8] \"X2..Na.jakim.wydziale.uczelni.Pani.Pan.pracuje.\"                                          \n",
       " [9] \"X3..Na.jakiego.rodzaju.stanowisku.jest.Pani.zatrudniona..jest.Pan.zatrudniony.\"           \n",
       "[10] \"X3..Na.jakiego.rodzaju.stanowisku.jest.Pani.zatrudniona..jest.Pan.zatrudniony...Wpisz....\""
      ]
     },
     "metadata": {},
     "output_type": "display_data"
    }
   ],
   "source": [
    "# nazwy zmiennych są raw, trzeba cos z nimi zrobic\n",
    "names(baza1[1:10])"
   ]
  },
  {
   "cell_type": "code",
   "execution_count": 5,
   "metadata": {
    "vscode": {
     "languageId": "r"
    }
   },
   "outputs": [],
   "source": [
    "# data frame z nazwami zmiennych\n",
    "zmienna_baza1 <- data.frame(nazwa = names(baza1))"
   ]
  },
  {
   "cell_type": "code",
   "execution_count": 6,
   "metadata": {
    "vscode": {
     "languageId": "r"
    }
   },
   "outputs": [
    {
     "name": "stdout",
     "output_type": "stream",
     "text": [
      "Rows: 189\n",
      "Columns: 1\n",
      "$ nazwa \u001b[3m\u001b[90m<chr>\u001b[39m\u001b[23m \"Lp.\", \"ID\", \"Data.rozpoczęcia\", \"Data.zakończenia\", \"Całkowity.…\n"
     ]
    }
   ],
   "source": [
    "glimpse(zmienna_baza1)"
   ]
  },
  {
   "cell_type": "code",
   "execution_count": 7,
   "metadata": {
    "vscode": {
     "languageId": "r"
    }
   },
   "outputs": [],
   "source": [
    "baza2 <-read.csv(\"/Users/stawager/Repos/dataAnalysisR_ifs2025/dane20250311/pracownicy UPJP2.csv\",\n",
    "                  header = FALSE, skip = 1)"
   ]
  },
  {
   "cell_type": "code",
   "execution_count": 8,
   "metadata": {
    "vscode": {
     "languageId": "r"
    }
   },
   "outputs": [
    {
     "data": {
      "text/plain": [
       "  V1 V2        V3                  V4                  V5      \n",
       "1 1  398227010 2024-01-15 14:45:40 2024-01-15 15:02:49 00:17:09\n",
       "2 2  398234252 2024-01-15 15:52:27 2024-01-15 16:07:53 00:15:26\n",
       "3 3  398244674 2024-01-15 17:45:00 2024-01-15 17:58:01 00:13:01\n",
       "4 4  398245976 2024-01-15 17:51:25 2024-01-15 18:10:48 00:19:23\n",
       "5 5  398254121 2024-01-15 14:23:43 2024-01-15 19:59:45 05:36:02"
      ]
     },
     "metadata": {},
     "output_type": "display_data"
    }
   ],
   "source": [
    "# baza1 bez nazw zmiennych\n",
    "baza2[1:5, 1:5]"
   ]
  },
  {
   "cell_type": "code",
   "execution_count": 9,
   "metadata": {
    "vscode": {
     "languageId": "r"
    }
   },
   "outputs": [],
   "source": [
    "baza2 <- baza2 %>%\n",
    "    rename(Czy_uczy = V11)"
   ]
  },
  {
   "cell_type": "code",
   "execution_count": 10,
   "metadata": {
    "vscode": {
     "languageId": "r"
    }
   },
   "outputs": [],
   "source": [
    "baza3 <- readxl::read_xlsx(\"/Users/stawager/Repos/dataAnalysisR_ifs2025/dane20250311/pracownicy UPJP2.xlsx\")"
   ]
  },
  {
   "cell_type": "code",
   "execution_count": 11,
   "metadata": {
    "vscode": {
     "languageId": "r"
    }
   },
   "outputs": [
    {
     "data": {
      "text/plain": [
       "  Lp. ID        Data.rozpoczęcia    Data.zakończenia   \n",
       "1 1   398227010 2024-01-15 14:45:40 2024-01-15 15:02:49\n",
       "2 2   398234252 2024-01-15 15:52:27 2024-01-15 16:07:53\n",
       "3 3   398244674 2024-01-15 17:45:00 2024-01-15 17:58:01\n",
       "4 4   398245976 2024-01-15 17:51:25 2024-01-15 18:10:48\n",
       "5 5   398254121 2024-01-15 14:23:43 2024-01-15 19:59:45\n",
       "  Całkowity.czas.wypełniania\n",
       "1 00:17:09                  \n",
       "2 00:15:26                  \n",
       "3 00:13:01                  \n",
       "4 00:19:23                  \n",
       "5 05:36:02                  "
      ]
     },
     "metadata": {},
     "output_type": "display_data"
    }
   ],
   "source": [
    "baza1[1:5, 1:5]"
   ]
  },
  {
   "cell_type": "code",
   "execution_count": 12,
   "metadata": {
    "vscode": {
     "languageId": "r"
    }
   },
   "outputs": [
    {
     "data": {
      "text/plain": [
       "  Lp. ID        Data rozpoczęcia Data zakończenia Całkowity czas wypełniania\n",
       "1 1   398227010 45306.62         45306.63         0.011909722               \n",
       "2 2   398234252 45306.66         45306.67         0.010717593               \n",
       "3 3   398244674 45306.74         45306.75         0.009039352               \n",
       "4 4   398245976 45306.74         45306.76         0.013460648               \n",
       "5 5   398254121 45306.60         45306.83         0.233356481               "
      ]
     },
     "metadata": {},
     "output_type": "display_data"
    }
   ],
   "source": [
    "baza3[1:5, 1:5]"
   ]
  },
  {
   "cell_type": "code",
   "execution_count": 13,
   "metadata": {
    "vscode": {
     "languageId": "r"
    }
   },
   "outputs": [],
   "source": [
    "baza4 <- haven::read_sav(\"/Users/stawager/Repos/dataAnalysisR_ifs2025/dane20250311/dataPLUS.sav\")"
   ]
  },
  {
   "cell_type": "code",
   "execution_count": 14,
   "metadata": {
    "vscode": {
     "languageId": "r"
    }
   },
   "outputs": [
    {
     "data": {
      "text/plain": [
       "  StartDate           EndDate             Status Progress Duration__in_seconds_\n",
       "1 2023-05-19 01:23:45 2023-05-19 01:34:02 0      100      616                  \n",
       "2 2023-05-19 01:24:06 2023-05-19 01:30:30 0      100      384                  \n",
       "3 2023-05-19 01:24:39 2023-05-19 01:40:31 0      100      951                  \n",
       "4 2023-05-19 01:24:48 2023-05-19 01:34:19 0      100      571                  \n",
       "5 2023-05-19 01:24:53 2023-05-19 01:27:37 0      100      164                  "
      ]
     },
     "metadata": {},
     "output_type": "display_data"
    }
   ],
   "source": [
    "baza4[1:5, 1:5]"
   ]
  },
  {
   "cell_type": "code",
   "execution_count": 15,
   "metadata": {
    "vscode": {
     "languageId": "r"
    }
   },
   "outputs": [
    {
     "data": {
      "text/plain": [
       "[1] 2178  129"
      ]
     },
     "metadata": {},
     "output_type": "display_data"
    }
   ],
   "source": [
    "dim(baza4)"
   ]
  },
  {
   "cell_type": "code",
   "execution_count": 16,
   "metadata": {
    "vscode": {
     "languageId": "r"
    }
   },
   "outputs": [
    {
     "data": {
      "text/plain": [
       " [1] \"UserLanguage\" \"consent\"      \"gender\"       \"age\"          \"edu.level\"   \n",
       " [6] \"edu.field\"    \"nationality\"  \"city\"         \"political.1\"  \"political.2\" \n",
       "[11] \"political.3\" "
      ]
     },
     "metadata": {},
     "output_type": "display_data"
    }
   ],
   "source": [
    "names(baza4)[10:20]"
   ]
  },
  {
   "cell_type": "markdown",
   "metadata": {},
   "source": [
    "___"
   ]
  },
  {
   "cell_type": "code",
   "execution_count": 17,
   "metadata": {
    "vscode": {
     "languageId": "r"
    }
   },
   "outputs": [
    {
     "data": {
      "text/plain": [
       "\n",
       "Jednostka ogólnouczelniana                    Wydział \n",
       "                        10                         26 "
      ]
     },
     "metadata": {},
     "output_type": "display_data"
    }
   ],
   "source": [
    "table(baza2$V7)"
   ]
  },
  {
   "cell_type": "code",
   "execution_count": 18,
   "metadata": {
    "vscode": {
     "languageId": "r"
    }
   },
   "outputs": [
    {
     "data": {
      "text/plain": [
       "\n",
       "     Nie      Tak \n",
       "33.33333 66.66667 "
      ]
     },
     "metadata": {},
     "output_type": "display_data"
    }
   ],
   "source": [
    "prop.table(table(baza2$Czy_uczy))*100"
   ]
  },
  {
   "cell_type": "code",
   "execution_count": 19,
   "metadata": {
    "vscode": {
     "languageId": "r"
    }
   },
   "outputs": [
    {
     "data": {
      "text/plain": [
       "[1] 4.941176"
      ]
     },
     "metadata": {},
     "output_type": "display_data"
    }
   ],
   "source": [
    "mean(baza2$V116, trim = .05)"
   ]
  },
  {
   "cell_type": "code",
   "execution_count": 20,
   "metadata": {
    "vscode": {
     "languageId": "r"
    }
   },
   "outputs": [
    {
     "data": {
      "text/plain": [
       "\n",
       "\tWelch Two Sample t-test\n",
       "\n",
       "data:  baza2$V116 by baza2$Czy_uczy\n",
       "t = -1.1973, df = 26.018, p-value = 0.242\n",
       "alternative hypothesis: true difference in means between group Nie and group Tak is not equal to 0\n",
       "95 percent confidence interval:\n",
       " -1.9243154  0.5076487\n",
       "sample estimates:\n",
       "mean in group Nie mean in group Tak \n",
       "         4.416667          5.125000 \n"
      ]
     },
     "metadata": {},
     "output_type": "display_data"
    }
   ],
   "source": [
    "t.test(baza2$V116 ~ baza2$Czy_uczy)"
   ]
  },
  {
   "cell_type": "code",
   "execution_count": 21,
   "metadata": {
    "vscode": {
     "languageId": "r"
    }
   },
   "outputs": [
    {
     "data": {
      "text/plain": [
       "\n",
       "         Kobieta        Mężczyzna Wolę nie podawać \n",
       "              17               14                5 "
      ]
     },
     "metadata": {},
     "output_type": "display_data"
    },
    {
     "data": {
      "text/plain": [
       "\n",
       "         Kobieta        Mężczyzna Wolę nie podawać \n",
       "           47.22            38.89            13.89 "
      ]
     },
     "metadata": {},
     "output_type": "display_data"
    }
   ],
   "source": [
    "table(baza2$V143)\n",
    "round(prop.table(table(baza2$V143))*100, 2)"
   ]
  },
  {
   "cell_type": "code",
   "execution_count": 22,
   "metadata": {
    "vscode": {
     "languageId": "r"
    }
   },
   "outputs": [
    {
     "data": {
      "text/plain": [
       "            Df Sum Sq Mean Sq F value Pr(>F)\n",
       "baza2$V143   2   0.16   0.078   0.023  0.977\n",
       "Residuals   33 111.40   3.376               "
      ]
     },
     "metadata": {},
     "output_type": "display_data"
    }
   ],
   "source": [
    "summary(aov(baza2$V116 ~ baza2$V143))"
   ]
  },
  {
   "cell_type": "markdown",
   "metadata": {},
   "source": [
    "___"
   ]
  },
  {
   "cell_type": "code",
   "execution_count": 23,
   "metadata": {
    "vscode": {
     "languageId": "r"
    }
   },
   "outputs": [
    {
     "data": {
      "text/plain": [
       "[1] 36"
      ]
     },
     "metadata": {},
     "output_type": "display_data"
    }
   ],
   "source": [
    "nrow(baza2)"
   ]
  },
  {
   "cell_type": "code",
   "execution_count": 24,
   "metadata": {
    "vscode": {
     "languageId": "r"
    }
   },
   "outputs": [
    {
     "data": {
      "text/plain": [
       "[1] 31"
      ]
     },
     "metadata": {},
     "output_type": "display_data"
    }
   ],
   "source": [
    "baza2 %>%\n",
    "    filter(V143 != \"Wolę nie podawać\") %>%\n",
    "    nrow()"
   ]
  },
  {
   "cell_type": "code",
   "execution_count": 25,
   "metadata": {
    "vscode": {
     "languageId": "r"
    }
   },
   "outputs": [
    {
     "data": {
      "text/plain": [
       "[1] 189"
      ]
     },
     "metadata": {},
     "output_type": "display_data"
    }
   ],
   "source": [
    "ncol(baza3)"
   ]
  },
  {
   "cell_type": "code",
   "execution_count": 26,
   "metadata": {
    "vscode": {
     "languageId": "r"
    }
   },
   "outputs": [
    {
     "data": {
      "text/plain": [
       "[1] 15"
      ]
     },
     "metadata": {},
     "output_type": "display_data"
    }
   ],
   "source": [
    "baza3 %>%\n",
    "    select(c(1:11, starts_with(\"14g\"))) %>%\n",
    "    ncol()"
   ]
  },
  {
   "cell_type": "code",
   "execution_count": 27,
   "metadata": {
    "vscode": {
     "languageId": "r"
    }
   },
   "outputs": [
    {
     "data": {
      "text/plain": [
       "   rok_urodzenia wiek\n",
       "1  1525          500 \n",
       "2  1900          125 \n",
       "3  1900          125 \n",
       "4  1961           64 \n",
       "5  1963           62 \n",
       "6  1965           60 \n",
       "7  1965           60 \n",
       "8  1965           60 \n",
       "9  1968           57 \n",
       "10 1968           57 "
      ]
     },
     "metadata": {},
     "output_type": "display_data"
    }
   ],
   "source": [
    "baza2 %>%\n",
    "    mutate(wiek = 2025-V144) %>%\n",
    "    select(V144, wiek) %>%\n",
    "    rename(rok_urodzenia = V144) %>%\n",
    "    arrange(desc(wiek)) %>%\n",
    "    head(10)"
   ]
  },
  {
   "cell_type": "markdown",
   "metadata": {
    "vscode": {
     "languageId": "r"
    }
   },
   "source": [
    "___"
   ]
  },
  {
   "cell_type": "code",
   "execution_count": 28,
   "metadata": {
    "vscode": {
     "languageId": "r"
    }
   },
   "outputs": [
    {
     "data": {
      "text/plain": [
       "[1] \"X3A..Czy.prowadzi.Pani.Pan.zajęcia.dydaktyczne.\""
      ]
     },
     "metadata": {},
     "output_type": "display_data"
    }
   ],
   "source": [
    "names(baza1)[11]"
   ]
  },
  {
   "cell_type": "code",
   "execution_count": 29,
   "metadata": {
    "vscode": {
     "languageId": "r"
    }
   },
   "outputs": [],
   "source": [
    "baza_new <- baza2 %>% \n",
    "    filter(Czy_uczy == \"Tak\") \n",
    "    # select(-(1:(ncol(baza2)-10))) %>%\n"
   ]
  },
  {
   "cell_type": "code",
   "execution_count": 30,
   "metadata": {
    "vscode": {
     "languageId": "r"
    }
   },
   "outputs": [
    {
     "data": {
      "text/plain": [
       "\n",
       "             Doktor Doktor habilitowany            Magister            Profesor \n",
       "                 12                   7                   2                   3 "
      ]
     },
     "metadata": {},
     "output_type": "display_data"
    }
   ],
   "source": [
    "table(baza_new$V146)"
   ]
  },
  {
   "cell_type": "code",
   "execution_count": 31,
   "metadata": {
    "vscode": {
     "languageId": "r"
    }
   },
   "outputs": [
    {
     "data": {
      "text/plain": [
       "\n",
       "             Doktor Doktor habilitowany            Magister            Profesor \n",
       "              50.00               29.17                8.33               12.50 "
      ]
     },
     "metadata": {},
     "output_type": "display_data"
    }
   ],
   "source": [
    "round(prop.table(table(baza_new$V146))*100, 2)"
   ]
  },
  {
   "cell_type": "code",
   "execution_count": 32,
   "metadata": {
    "vscode": {
     "languageId": "r"
    }
   },
   "outputs": [],
   "source": [
    "baza_new <- baza_new %>% \n",
    "    select(-(1:(ncol(baza_new)-10)))"
   ]
  },
  {
   "cell_type": "code",
   "execution_count": 33,
   "metadata": {
    "vscode": {
     "languageId": "r"
    }
   },
   "outputs": [
    {
     "data": {
      "text/plain": [
       " [1] \"V180\" \"V181\" \"V182\" \"V183\" \"V184\" \"V185\" \"V186\" \"V187\" \"V188\" \"V189\""
      ]
     },
     "metadata": {},
     "output_type": "display_data"
    }
   ],
   "source": [
    "names(baza_new)"
   ]
  },
  {
   "cell_type": "code",
   "execution_count": 34,
   "metadata": {
    "vscode": {
     "languageId": "r"
    }
   },
   "outputs": [],
   "source": [
    "#TODO: polaczyc 4 csv studentow po nazwie uczelni"
   ]
  },
  {
   "cell_type": "code",
   "execution_count": 57,
   "metadata": {
    "vscode": {
     "languageId": "r"
    }
   },
   "outputs": [],
   "source": [
    "KUL <- read.csv(\"/Users/stawager/Repos/dataAnalysisR_ifs2025/dane20250311/studenci KUL.csv\", header = F)\n",
    "KUL <- KUL %>%\n",
    "    mutate(Uczelnia = \"KUL\")\n",
    "UIK <- read.csv(\"/Users/stawager/Repos/dataAnalysisR_ifs2025/dane20250311/studenci UIK.csv\", header = F)\n",
    "UIK <- UIK %>%\n",
    "    mutate(Uczelnia = \"UIK\")\n",
    "UKSW <- read.csv(\"/Users/stawager/Repos/dataAnalysisR_ifs2025/dane20250311/studenci UKSW.csv\", header = F)\n",
    "UKSW <- UKSW %>%\n",
    "    mutate(Uczelnia = \"UKSW\")\n",
    "UPJP2 <- read.csv(\"/Users/stawager/Repos/dataAnalysisR_ifs2025/dane20250311/studenci UPJP2.csv\", header = F)\n",
    "UPJP2 <- UPJP2 %>%\n",
    "    mutate(Uczelnia = \"UPJP2\")"
   ]
  },
  {
   "cell_type": "code",
   "execution_count": 58,
   "metadata": {
    "vscode": {
     "languageId": "r"
    }
   },
   "outputs": [
    {
     "name": "stdout",
     "output_type": "stream",
     "text": [
      "Rows: 826\n",
      "Columns: 131\n",
      "$ V1       \u001b[3m\u001b[90m<chr>\u001b[39m\u001b[23m \"Lp.\", \"1\", \"2\", \"3\", \"4\", \"5\", \"6\", \"7\", \"8\", \"9\", \"10\", \"11…\n",
      "$ V2       \u001b[3m\u001b[90m<chr>\u001b[39m\u001b[23m \"ID\", \"398222606\", \"398230046\", \"398235212\", \"398260799\", \"39…\n",
      "$ V3       \u001b[3m\u001b[90m<chr>\u001b[39m\u001b[23m \"Data rozpoczęcia\", \"2024-01-15 14:19:21\", \"2024-01-15 15:20:…\n",
      "$ V4       \u001b[3m\u001b[90m<chr>\u001b[39m\u001b[23m \"Data zakończenia\", \"2024-01-15 14:27:23\", \"2024-01-15 15:28:…\n",
      "$ V5       \u001b[3m\u001b[90m<chr>\u001b[39m\u001b[23m \"Całkowity czas wypełniania\", \"00:08:02\", \"00:08:39\", \"00:50:…\n",
      "$ V6       \u001b[3m\u001b[90m<chr>\u001b[39m\u001b[23m \"Rzeczywisty czas wypełniania\", \"00:08:02\", \"00:08:39\", \"00:5…\n",
      "$ V7       \u001b[3m\u001b[90m<chr>\u001b[39m\u001b[23m \"1. Jaki kierunek studiujesz na KUL?\", \"Filozofia\", \"Biotechn…\n",
      "$ V8       \u001b[3m\u001b[90m<chr>\u001b[39m\u001b[23m \"1. Jaki kierunek studiujesz na KUL? [Wpisz...]\", \"\", \"\", \"\",…\n",
      "$ V9       \u001b[3m\u001b[90m<chr>\u001b[39m\u001b[23m \"2. Rodzaj studiów\", \"Stacjonarne\", \"Stacjonarne\", \"Stacjonar…\n",
      "$ V10      \u001b[3m\u001b[90m<chr>\u001b[39m\u001b[23m \"3. Stopień studiów\", \"Pierwszy\", \"Pierwszy\", \"Pierwszy\", \"Pi…\n",
      "$ V11      \u001b[3m\u001b[90m<chr>\u001b[39m\u001b[23m \"4A. Rok studiów\", \"Drugi\", \"Trzeci\", \"Trzeci\", \"Drugi\", \"Trz…\n",
      "$ V12      \u001b[3m\u001b[90m<chr>\u001b[39m\u001b[23m \"4B. Rok studiów\", \"\", \"\", \"\", \"\", \"\", \"Drugi\", \"\", \"\", \"\", \"…\n",
      "$ V13      \u001b[3m\u001b[90m<chr>\u001b[39m\u001b[23m \"4C. Rok studiów\", \"\", \"\", \"\", \"\", \"\", \"\", \"Piąty\", \"Drugi\", …\n",
      "$ V14      \u001b[3m\u001b[90m<chr>\u001b[39m\u001b[23m \"5. Czy wybrana uczelnia była dla Ciebie uczelnią pierwszego …\n",
      "$ V15      \u001b[3m\u001b[90m<chr>\u001b[39m\u001b[23m \"5. 1. Wpisz pełną nazwę uczelni, na której chciałaś/chciałeś…\n",
      "$ V16      \u001b[3m\u001b[90m<chr>\u001b[39m\u001b[23m \"6. Czy studiowałaś/studiowałeś już wcześniej na innej uczeln…\n",
      "$ V17      \u001b[3m\u001b[90m<chr>\u001b[39m\u001b[23m \"6.1. Wpisz pełną nazwę uczelni, na której wcześniej studiowa…\n",
      "$ V18      \u001b[3m\u001b[90m<chr>\u001b[39m\u001b[23m \"7. Czy przyjechałaś/przyjechałeś lub dojeżdżasz na studia z …\n",
      "$ V19      \u001b[3m\u001b[90m<chr>\u001b[39m\u001b[23m \"8. Jak, biorąc pod uwagę całokształt Twoich doświadczeń z KU…\n",
      "$ V20      \u001b[3m\u001b[90m<chr>\u001b[39m\u001b[23m \"8.1. Co na uczelni musiałoby się zmienić lub poprawić, żeby …\n",
      "$ V21      \u001b[3m\u001b[90m<chr>\u001b[39m\u001b[23m \"9. Teraz chcielibyśmy poznać Twoją satysfakcję ze studiowani…\n",
      "$ V22      \u001b[3m\u001b[90m<chr>\u001b[39m\u001b[23m \"9. Teraz chcielibyśmy poznać Twoją satysfakcję ze studiowani…\n",
      "$ V23      \u001b[3m\u001b[90m<chr>\u001b[39m\u001b[23m \"9. Teraz chcielibyśmy poznać Twoją satysfakcję ze studiowani…\n",
      "$ V24      \u001b[3m\u001b[90m<chr>\u001b[39m\u001b[23m \"9. Teraz chcielibyśmy poznać Twoją satysfakcję ze studiowani…\n",
      "$ V25      \u001b[3m\u001b[90m<chr>\u001b[39m\u001b[23m \"9. Teraz chcielibyśmy poznać Twoją satysfakcję ze studiowani…\n",
      "$ V26      \u001b[3m\u001b[90m<chr>\u001b[39m\u001b[23m \"9. Teraz chcielibyśmy poznać Twoją satysfakcję ze studiowani…\n",
      "$ V27      \u001b[3m\u001b[90m<chr>\u001b[39m\u001b[23m \"10. Najpierw chcielibyśmy zapytać o postrzeganie uczelni w k…\n",
      "$ V28      \u001b[3m\u001b[90m<chr>\u001b[39m\u001b[23m \"10. Najpierw chcielibyśmy zapytać o postrzeganie uczelni w k…\n",
      "$ V29      \u001b[3m\u001b[90m<chr>\u001b[39m\u001b[23m \"10. Najpierw chcielibyśmy zapytać o postrzeganie uczelni w k…\n",
      "$ V30      \u001b[3m\u001b[90m<chr>\u001b[39m\u001b[23m \"10. Najpierw chcielibyśmy zapytać o postrzeganie uczelni w k…\n",
      "$ V31      \u001b[3m\u001b[90m<chr>\u001b[39m\u001b[23m \"10. Najpierw chcielibyśmy zapytać o postrzeganie uczelni w k…\n",
      "$ V32      \u001b[3m\u001b[90m<chr>\u001b[39m\u001b[23m \"10. Najpierw chcielibyśmy zapytać o postrzeganie uczelni w k…\n",
      "$ V33      \u001b[3m\u001b[90m<chr>\u001b[39m\u001b[23m \"10. Najpierw chcielibyśmy zapytać o postrzeganie uczelni w k…\n",
      "$ V34      \u001b[3m\u001b[90m<chr>\u001b[39m\u001b[23m \"10. Najpierw chcielibyśmy zapytać o postrzeganie uczelni w k…\n",
      "$ V35      \u001b[3m\u001b[90m<chr>\u001b[39m\u001b[23m \"10. Najpierw chcielibyśmy zapytać o postrzeganie uczelni w k…\n",
      "$ V36      \u001b[3m\u001b[90m<chr>\u001b[39m\u001b[23m \"10. Najpierw chcielibyśmy zapytać o postrzeganie uczelni w k…\n",
      "$ V37      \u001b[3m\u001b[90m<chr>\u001b[39m\u001b[23m \"10. Najpierw chcielibyśmy zapytać o postrzeganie uczelni w k…\n",
      "$ V38      \u001b[3m\u001b[90m<chr>\u001b[39m\u001b[23m \"10. Najpierw chcielibyśmy zapytać o postrzeganie uczelni w k…\n",
      "$ V39      \u001b[3m\u001b[90m<chr>\u001b[39m\u001b[23m \"10. Najpierw chcielibyśmy zapytać o postrzeganie uczelni w k…\n",
      "$ V40      \u001b[3m\u001b[90m<chr>\u001b[39m\u001b[23m \"10. Najpierw chcielibyśmy zapytać o postrzeganie uczelni w k…\n",
      "$ V41      \u001b[3m\u001b[90m<chr>\u001b[39m\u001b[23m \"10. Najpierw chcielibyśmy zapytać o postrzeganie uczelni w k…\n",
      "$ V42      \u001b[3m\u001b[90m<chr>\u001b[39m\u001b[23m \"10. Najpierw chcielibyśmy zapytać o postrzeganie uczelni w k…\n",
      "$ V43      \u001b[3m\u001b[90m<chr>\u001b[39m\u001b[23m \"11. Poprzednie pytanie dotyczyło postrzegania uczelni przez …\n",
      "$ V44      \u001b[3m\u001b[90m<chr>\u001b[39m\u001b[23m \"11. Poprzednie pytanie dotyczyło postrzegania uczelni przez …\n",
      "$ V45      \u001b[3m\u001b[90m<chr>\u001b[39m\u001b[23m \"11. Poprzednie pytanie dotyczyło postrzegania uczelni przez …\n",
      "$ V46      \u001b[3m\u001b[90m<chr>\u001b[39m\u001b[23m \"11. Poprzednie pytanie dotyczyło postrzegania uczelni przez …\n",
      "$ V47      \u001b[3m\u001b[90m<chr>\u001b[39m\u001b[23m \"11. Poprzednie pytanie dotyczyło postrzegania uczelni przez …\n",
      "$ V48      \u001b[3m\u001b[90m<chr>\u001b[39m\u001b[23m \"11. Poprzednie pytanie dotyczyło postrzegania uczelni przez …\n",
      "$ V49      \u001b[3m\u001b[90m<chr>\u001b[39m\u001b[23m \"11. Poprzednie pytanie dotyczyło postrzegania uczelni przez …\n",
      "$ V50      \u001b[3m\u001b[90m<chr>\u001b[39m\u001b[23m \"11. Poprzednie pytanie dotyczyło postrzegania uczelni przez …\n",
      "$ V51      \u001b[3m\u001b[90m<chr>\u001b[39m\u001b[23m \"12. Wymień, w kolejności od najważniejszej, 1-3 cechy KUL, k…\n",
      "$ V52      \u001b[3m\u001b[90m<chr>\u001b[39m\u001b[23m \"12. Wymień, w kolejności od najważniejszej, 1-3 cechy KUL, k…\n",
      "$ V53      \u001b[3m\u001b[90m<chr>\u001b[39m\u001b[23m \"12. Wymień, w kolejności od najważniejszej, 1-3 cechy KUL, k…\n",
      "$ V54      \u001b[3m\u001b[90m<chr>\u001b[39m\u001b[23m \"13. Wymień, w kolejności od najważniejszej, 1-3 cechy KUL, k…\n",
      "$ V55      \u001b[3m\u001b[90m<chr>\u001b[39m\u001b[23m \"13. Wymień, w kolejności od najważniejszej, 1-3 cechy KUL, k…\n",
      "$ V56      \u001b[3m\u001b[90m<chr>\u001b[39m\u001b[23m \"13. Wymień, w kolejności od najważniejszej, 1-3 cechy KUL, k…\n",
      "$ V57      \u001b[3m\u001b[90m<chr>\u001b[39m\u001b[23m \"14a. Na ile zgadzasz się lub nie zgadzasz się, że: [Moja ucz…\n",
      "$ V58      \u001b[3m\u001b[90m<chr>\u001b[39m\u001b[23m \"14a. Na ile zgadzasz się lub nie zgadzasz się, że: [Moja ucz…\n",
      "$ V59      \u001b[3m\u001b[90m<chr>\u001b[39m\u001b[23m \"14a. Na ile zgadzasz się lub nie zgadzasz się, że: [Moja ucz…\n",
      "$ V60      \u001b[3m\u001b[90m<chr>\u001b[39m\u001b[23m \"14a. Na ile zgadzasz się lub nie zgadzasz się, że: [Moja ucz…\n",
      "$ V61      \u001b[3m\u001b[90m<chr>\u001b[39m\u001b[23m \"14a. Na ile zgadzasz się lub nie zgadzasz się, że: [Moja ucz…\n",
      "$ V62      \u001b[3m\u001b[90m<chr>\u001b[39m\u001b[23m \"14b. Na ile zgadzasz się lub nie zgadzasz się, że: [Moja ucz…\n",
      "$ V63      \u001b[3m\u001b[90m<chr>\u001b[39m\u001b[23m \"14b. Na ile zgadzasz się lub nie zgadzasz się, że: [Tym, co …\n",
      "$ V64      \u001b[3m\u001b[90m<chr>\u001b[39m\u001b[23m \"14b. Na ile zgadzasz się lub nie zgadzasz się, że: [Na tle p…\n",
      "$ V65      \u001b[3m\u001b[90m<chr>\u001b[39m\u001b[23m \"14b. Na ile zgadzasz się lub nie zgadzasz się, że: [Uważam, …\n",
      "$ V66      \u001b[3m\u001b[90m<chr>\u001b[39m\u001b[23m \"14c. Na ile zgadzasz się lub nie zgadzasz się, że: [Moja ucz…\n",
      "$ V67      \u001b[3m\u001b[90m<chr>\u001b[39m\u001b[23m \"14c. Na ile zgadzasz się lub nie zgadzasz się, że: [Moja ucz…\n",
      "$ V68      \u001b[3m\u001b[90m<chr>\u001b[39m\u001b[23m \"14c. Na ile zgadzasz się lub nie zgadzasz się, że: [Moja ucz…\n",
      "$ V69      \u001b[3m\u001b[90m<chr>\u001b[39m\u001b[23m \"14c. Na ile zgadzasz się lub nie zgadzasz się, że: [Moja ucz…\n",
      "$ V70      \u001b[3m\u001b[90m<chr>\u001b[39m\u001b[23m \"14d. Na ile zgadzasz się lub nie zgadzasz się, że: [Moja ucz…\n",
      "$ V71      \u001b[3m\u001b[90m<chr>\u001b[39m\u001b[23m \"14d. Na ile zgadzasz się lub nie zgadzasz się, że: [Moja ucz…\n",
      "$ V72      \u001b[3m\u001b[90m<chr>\u001b[39m\u001b[23m \"14d. Na ile zgadzasz się lub nie zgadzasz się, że: [Moja ucz…\n",
      "$ V73      \u001b[3m\u001b[90m<chr>\u001b[39m\u001b[23m \"14d. Na ile zgadzasz się lub nie zgadzasz się, że: [Lokaliza…\n",
      "$ V74      \u001b[3m\u001b[90m<chr>\u001b[39m\u001b[23m \"14e. Na ile zgadzasz się lub nie zgadzasz się, że: [Uważam, …\n",
      "$ V75      \u001b[3m\u001b[90m<chr>\u001b[39m\u001b[23m \"14e. Na ile zgadzasz się lub nie zgadzasz się, że: [Moja ucz…\n",
      "$ V76      \u001b[3m\u001b[90m<chr>\u001b[39m\u001b[23m \"14e. Na ile zgadzasz się lub nie zgadzasz się, że: [Moja ucz…\n",
      "$ V77      \u001b[3m\u001b[90m<chr>\u001b[39m\u001b[23m \"14e. Na ile zgadzasz się lub nie zgadzasz się, że: [Moja ucz…\n",
      "$ V78      \u001b[3m\u001b[90m<chr>\u001b[39m\u001b[23m \"14f. Na ile zgadzasz się lub nie zgadzasz się, że: [Moja ucz…\n",
      "$ V79      \u001b[3m\u001b[90m<chr>\u001b[39m\u001b[23m \"14f. Na ile zgadzasz się lub nie zgadzasz się, że: [Moja ucz…\n",
      "$ V80      \u001b[3m\u001b[90m<chr>\u001b[39m\u001b[23m \"14f. Na ile zgadzasz się lub nie zgadzasz się, że: [Moja ucz…\n",
      "$ V81      \u001b[3m\u001b[90m<chr>\u001b[39m\u001b[23m \"14f. Na ile zgadzasz się lub nie zgadzasz się, że: [Na mojej…\n",
      "$ V82      \u001b[3m\u001b[90m<chr>\u001b[39m\u001b[23m \"14f. Na ile zgadzasz się lub nie zgadzasz się, że: [Na mojej…\n",
      "$ V83      \u001b[3m\u001b[90m<chr>\u001b[39m\u001b[23m \"14g. To już ostatni taki zestaw pytań. Na ile zgadzasz się l…\n",
      "$ V84      \u001b[3m\u001b[90m<chr>\u001b[39m\u001b[23m \"14g. To już ostatni taki zestaw pytań. Na ile zgadzasz się l…\n",
      "$ V85      \u001b[3m\u001b[90m<chr>\u001b[39m\u001b[23m \"14g. To już ostatni taki zestaw pytań. Na ile zgadzasz się l…\n",
      "$ V86      \u001b[3m\u001b[90m<chr>\u001b[39m\u001b[23m \"14g. To już ostatni taki zestaw pytań. Na ile zgadzasz się l…\n",
      "$ V87      \u001b[3m\u001b[90m<chr>\u001b[39m\u001b[23m \"Płeć\", \"Mężczyzna\", \"Kobieta\", \"Kobieta\", \"Kobieta\", \"Kobiet…\n",
      "$ V88      \u001b[3m\u001b[90m<chr>\u001b[39m\u001b[23m \"Miejsce stałego zamieszkania (przed rozpoczęciem studiów)\", …\n",
      "$ V89      \u001b[3m\u001b[90m<chr>\u001b[39m\u001b[23m \"Wielkość miejscowości stałego zamieszkania\", \"Miasto 100 000…\n",
      "$ V90      \u001b[3m\u001b[90m<chr>\u001b[39m\u001b[23m \"Województwo\", \"lubelskie\", \"lubelskie\", \"lubelskie\", \"lubels…\n",
      "$ V91      \u001b[3m\u001b[90m<chr>\u001b[39m\u001b[23m \"Twój status pracowniczy\", \"Nie pracuję\", \"Nie pracuję\", \"Nie…\n",
      "$ V92      \u001b[3m\u001b[90m<chr>\u001b[39m\u001b[23m \"Z którym z poniższych określeń najbardziej się utożsamiasz: …\n",
      "$ V93      \u001b[3m\u001b[90m<chr>\u001b[39m\u001b[23m \"Z którym z poniższych określeń najbardziej się utożsamiasz: …\n",
      "$ V94      \u001b[3m\u001b[90m<chr>\u001b[39m\u001b[23m \"Z którym z poniższych określeń najbardziej się utożsamiasz: …\n",
      "$ V95      \u001b[3m\u001b[90m<chr>\u001b[39m\u001b[23m \"Z którym z poniższych określeń najbardziej się utożsamiasz: …\n",
      "$ V96      \u001b[3m\u001b[90m<chr>\u001b[39m\u001b[23m \"Z którym z poniższych określeń najbardziej się utożsamiasz: …\n",
      "$ V97      \u001b[3m\u001b[90m<chr>\u001b[39m\u001b[23m \"Z którym z poniższych określeń najbardziej się utożsamiasz: …\n",
      "$ V98      \u001b[3m\u001b[90m<chr>\u001b[39m\u001b[23m \"Z którym z poniższych określeń najbardziej się utożsamiasz: …\n",
      "$ V99      \u001b[3m\u001b[90m<chr>\u001b[39m\u001b[23m \"Z którym z poniższych określeń najbardziej się utożsamiasz: …\n",
      "$ V100     \u001b[3m\u001b[90m<chr>\u001b[39m\u001b[23m \"Z którym z poniższych określeń najbardziej się utożsamiasz: …\n",
      "$ V101     \u001b[3m\u001b[90m<chr>\u001b[39m\u001b[23m \"Jeżeli chcesz podzielić się jeszcze jakimiś uwagami na temat…\n",
      "$ V102     \u001b[3m\u001b[90m<chr>\u001b[39m\u001b[23m \"Urządzenie\", \"PC\", \"Mobile\", \"PC\", \"PC\", \"Mobile\", \"PC\", \"PC…\n",
      "$ V103     \u001b[3m\u001b[90m<chr>\u001b[39m\u001b[23m \"Parametr zewnętrzny\", \"\", \"\", \"\", \"\", \"\", \"\", \"\", \"\", \"\", \"\"…\n",
      "$ V104     \u001b[3m\u001b[90m<chr>\u001b[39m\u001b[23m \"Tagi\", \"\", \"\", \"\", \"\", \"\", \"\", \"\", \"\", \"\", \"\", \"\", \"\", \"\", \"…\n",
      "$ V105     \u001b[3m\u001b[90m<chr>\u001b[39m\u001b[23m \"Strona odsyłająca\", \"\", \"http://m.facebook.com/\", \"https://l…\n",
      "$ V106     \u001b[3m\u001b[90m<chr>\u001b[39m\u001b[23m \"Czas wypełniania strony nr1\", \"00:00:08\", \"00:00:11\", \"00:02…\n",
      "$ V107     \u001b[3m\u001b[90m<chr>\u001b[39m\u001b[23m \"Czas wypełniania strony nr2\", \"00:00:13\", \"00:00:09\", \"00:00…\n",
      "$ V108     \u001b[3m\u001b[90m<chr>\u001b[39m\u001b[23m \"Czas wypełniania strony nr3\", \"00:00:09\", \"00:00:05\", \"00:00…\n",
      "$ V109     \u001b[3m\u001b[90m<chr>\u001b[39m\u001b[23m \"Czas wypełniania strony nr4\", \"00:00:04\", \"00:00:04\", \"00:00…\n",
      "$ V110     \u001b[3m\u001b[90m<chr>\u001b[39m\u001b[23m \"Czas wypełniania strony nr5\", \"\", \"\", \"\", \"\", \"\", \"00:00:05\"…\n",
      "$ V111     \u001b[3m\u001b[90m<chr>\u001b[39m\u001b[23m \"Czas wypełniania strony nr6\", \"\", \"\", \"\", \"\", \"\", \"\", \"00:00…\n",
      "$ V112     \u001b[3m\u001b[90m<chr>\u001b[39m\u001b[23m \"Czas wypełniania strony nr7\", \"00:00:05\", \"00:00:06\", \"00:00…\n",
      "$ V113     \u001b[3m\u001b[90m<chr>\u001b[39m\u001b[23m \"Czas wypełniania strony nr8\", \"\", \"\", \"\", \"\", \"\", \"00:00:24\"…\n",
      "$ V114     \u001b[3m\u001b[90m<chr>\u001b[39m\u001b[23m \"Czas wypełniania strony nr9\", \"00:00:07\", \"00:00:03\", \"00:00…\n",
      "$ V115     \u001b[3m\u001b[90m<chr>\u001b[39m\u001b[23m \"Czas wypełniania strony nr10\", \"00:00:09\", \"\", \"\", \"\", \"\", \"…\n",
      "$ V116     \u001b[3m\u001b[90m<chr>\u001b[39m\u001b[23m \"Czas wypełniania strony nr11\", \"00:00:19\", \"00:00:10\", \"00:0…\n",
      "$ V117     \u001b[3m\u001b[90m<chr>\u001b[39m\u001b[23m \"Czas wypełniania strony nr12\", \"\", \"\", \"\", \"\", \"00:01:50\", \"…\n",
      "$ V118     \u001b[3m\u001b[90m<chr>\u001b[39m\u001b[23m \"Czas wypełniania strony nr13\", \"00:00:45\", \"00:00:39\", \"00:0…\n",
      "$ V119     \u001b[3m\u001b[90m<chr>\u001b[39m\u001b[23m \"Czas wypełniania strony nr14\", \"00:00:43\", \"00:00:26\", \"00:3…\n",
      "$ V120     \u001b[3m\u001b[90m<chr>\u001b[39m\u001b[23m \"Czas wypełniania strony nr15\", \"00:00:23\", \"00:00:20\", \"00:0…\n",
      "$ V121     \u001b[3m\u001b[90m<chr>\u001b[39m\u001b[23m \"Czas wypełniania strony nr16\", \"00:00:32\", \"00:01:30\", \"00:0…\n",
      "$ V122     \u001b[3m\u001b[90m<chr>\u001b[39m\u001b[23m \"Czas wypełniania strony nr17\", \"00:00:32\", \"00:01:10\", \"00:0…\n",
      "$ V123     \u001b[3m\u001b[90m<chr>\u001b[39m\u001b[23m \"Czas wypełniania strony nr18\", \"00:00:17\", \"00:00:07\", \"00:0…\n",
      "$ V124     \u001b[3m\u001b[90m<chr>\u001b[39m\u001b[23m \"Czas wypełniania strony nr19\", \"00:00:50\", \"00:00:53\", \"00:0…\n",
      "$ V125     \u001b[3m\u001b[90m<chr>\u001b[39m\u001b[23m \"Czas wypełniania strony nr20\", \"00:00:39\", \"00:00:54\", \"00:0…\n",
      "$ V126     \u001b[3m\u001b[90m<chr>\u001b[39m\u001b[23m \"Czas wypełniania strony nr21\", \"00:00:44\", \"00:00:35\", \"00:0…\n",
      "$ V127     \u001b[3m\u001b[90m<chr>\u001b[39m\u001b[23m \"Czas wypełniania strony nr22\", \"00:00:23\", \"00:00:22\", \"00:0…\n",
      "$ V128     \u001b[3m\u001b[90m<chr>\u001b[39m\u001b[23m \"Czas wypełniania strony nr23\", \"00:00:37\", \"00:00:28\", \"00:0…\n",
      "$ V129     \u001b[3m\u001b[90m<chr>\u001b[39m\u001b[23m \"Czas wypełniania strony nr24\", \"00:00:07\", \"00:00:15\", \"00:0…\n",
      "$ V130     \u001b[3m\u001b[90m<chr>\u001b[39m\u001b[23m \"Czas wypełniania strony nr25\", \"00:00:15\", \"00:00:12\", \"00:0…\n",
      "$ Uczelnia \u001b[3m\u001b[90m<chr>\u001b[39m\u001b[23m \"KUL\", \"KUL\", \"KUL\", \"KUL\", \"KUL\", \"KUL\", \"KUL\", \"KUL\", \"KUL\"…\n"
     ]
    }
   ],
   "source": [
    "df <- rbind(KUL, UIK, UKSW, UPJP2)\n",
    "glimpse(df)"
   ]
  },
  {
   "cell_type": "code",
   "execution_count": null,
   "metadata": {
    "vscode": {
     "languageId": "r"
    }
   },
   "outputs": [],
   "source": [
    "df %>%\n",
    "    group_by(Uczelnia) %>%\n",
    "    summarise()"
   ]
  }
 ],
 "metadata": {
  "kernelspec": {
   "display_name": "R",
   "language": "R",
   "name": "ir"
  },
  "language_info": {
   "codemirror_mode": "r",
   "file_extension": ".r",
   "mimetype": "text/x-r-source",
   "name": "R",
   "pygments_lexer": "r",
   "version": "4.4.2"
  }
 },
 "nbformat": 4,
 "nbformat_minor": 2
}
