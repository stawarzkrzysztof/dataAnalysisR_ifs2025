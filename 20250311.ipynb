{
 "cells": [
  {
   "cell_type": "code",
   "execution_count": 1,
   "metadata": {
    "vscode": {
     "languageId": "r"
    }
   },
   "outputs": [
    {
     "name": "stderr",
     "output_type": "stream",
     "text": [
      "── \u001b[1mAttaching core tidyverse packages\u001b[22m ──────────────────────── tidyverse 2.0.0 ──\n",
      "\u001b[32m✔\u001b[39m \u001b[34mdplyr    \u001b[39m 1.1.4     \u001b[32m✔\u001b[39m \u001b[34mreadr    \u001b[39m 2.1.5\n",
      "\u001b[32m✔\u001b[39m \u001b[34mforcats  \u001b[39m 1.0.0     \u001b[32m✔\u001b[39m \u001b[34mstringr  \u001b[39m 1.5.1\n",
      "\u001b[32m✔\u001b[39m \u001b[34mggplot2  \u001b[39m 3.5.1     \u001b[32m✔\u001b[39m \u001b[34mtibble   \u001b[39m 3.2.1\n",
      "\u001b[32m✔\u001b[39m \u001b[34mlubridate\u001b[39m 1.9.4     \u001b[32m✔\u001b[39m \u001b[34mtidyr    \u001b[39m 1.3.1\n",
      "\u001b[32m✔\u001b[39m \u001b[34mpurrr    \u001b[39m 1.0.4     \n",
      "── \u001b[1mConflicts\u001b[22m ────────────────────────────────────────── tidyverse_conflicts() ──\n",
      "\u001b[31m✖\u001b[39m \u001b[34mdplyr\u001b[39m::\u001b[32mfilter()\u001b[39m masks \u001b[34mstats\u001b[39m::filter()\n",
      "\u001b[31m✖\u001b[39m \u001b[34mdplyr\u001b[39m::\u001b[32mlag()\u001b[39m    masks \u001b[34mstats\u001b[39m::lag()\n",
      "\u001b[36mℹ\u001b[39m Use the conflicted package (\u001b[3m\u001b[34m<http://conflicted.r-lib.org/>\u001b[39m\u001b[23m) to force all conflicts to become errors\n"
     ]
    }
   ],
   "source": [
    "library(tidyverse)\n",
    "plot_scale <- 1\n",
    "options(jupyter.rich_display = FALSE,\n",
    "        repr.plot.width = 16/plot_scale,\n",
    "        repr.plot.height = 9/plot_scale)"
   ]
  },
  {
   "cell_type": "code",
   "execution_count": 2,
   "metadata": {
    "vscode": {
     "languageId": "r"
    }
   },
   "outputs": [],
   "source": [
    "baza1 <- read.csv(\"/Users/stawager/Repos/dataAnalysisR_ifs2025/dane20250311/pracownicy UPJP2.csv\",\n",
    "                  header = TRUE)"
   ]
  },
  {
   "cell_type": "code",
   "execution_count": 3,
   "metadata": {
    "vscode": {
     "languageId": "r"
    }
   },
   "outputs": [
    {
     "data": {
      "text/plain": [
       "[1]  36 189"
      ]
     },
     "metadata": {},
     "output_type": "display_data"
    }
   ],
   "source": [
    "dim(baza1)"
   ]
  },
  {
   "cell_type": "code",
   "execution_count": 4,
   "metadata": {
    "vscode": {
     "languageId": "r"
    }
   },
   "outputs": [
    {
     "data": {
      "text/plain": [
       " [1] \"Lp.\"                                                                                      \n",
       " [2] \"ID\"                                                                                       \n",
       " [3] \"Data.rozpoczęcia\"                                                                         \n",
       " [4] \"Data.zakończenia\"                                                                         \n",
       " [5] \"Całkowity.czas.wypełniania\"                                                               \n",
       " [6] \"Rzeczywisty.czas.wypełniania\"                                                             \n",
       " [7] \"X1..W.jakiej.jednostce.uczelni.Pani.Pan.pracuje.\"                                         \n",
       " [8] \"X2..Na.jakim.wydziale.uczelni.Pani.Pan.pracuje.\"                                          \n",
       " [9] \"X3..Na.jakiego.rodzaju.stanowisku.jest.Pani.zatrudniona..jest.Pan.zatrudniony.\"           \n",
       "[10] \"X3..Na.jakiego.rodzaju.stanowisku.jest.Pani.zatrudniona..jest.Pan.zatrudniony...Wpisz....\""
      ]
     },
     "metadata": {},
     "output_type": "display_data"
    }
   ],
   "source": [
    "# nazwy zmiennych są raw, trzeba cos z nimi zrobic\n",
    "names(baza1[1:10])"
   ]
  },
  {
   "cell_type": "code",
   "execution_count": 5,
   "metadata": {
    "vscode": {
     "languageId": "r"
    }
   },
   "outputs": [],
   "source": [
    "# data frame z nazwami zmiennych\n",
    "zmienna_baza1 <- data.frame(nazwa = names(baza1))"
   ]
  },
  {
   "cell_type": "code",
   "execution_count": 6,
   "metadata": {
    "vscode": {
     "languageId": "r"
    }
   },
   "outputs": [
    {
     "name": "stdout",
     "output_type": "stream",
     "text": [
      "Rows: 189\n",
      "Columns: 1\n",
      "$ nazwa \u001b[3m\u001b[90m<chr>\u001b[39m\u001b[23m \"Lp.\", \"ID\", \"Data.rozpoczęcia\", \"Data.zakończenia\", \"Całkowity.…\n"
     ]
    }
   ],
   "source": [
    "glimpse(zmienna_baza1)"
   ]
  },
  {
   "cell_type": "code",
   "execution_count": 7,
   "metadata": {
    "vscode": {
     "languageId": "r"
    }
   },
   "outputs": [],
   "source": [
    "baza2 <-read.csv(\"/Users/stawager/Repos/dataAnalysisR_ifs2025/dane20250311/pracownicy UPJP2.csv\",\n",
    "                  header = FALSE, skip = 1)"
   ]
  },
  {
   "cell_type": "code",
   "execution_count": 8,
   "metadata": {
    "vscode": {
     "languageId": "r"
    }
   },
   "outputs": [
    {
     "data": {
      "text/plain": [
       "  V1 V2        V3                  V4                  V5      \n",
       "1 1  398227010 2024-01-15 14:45:40 2024-01-15 15:02:49 00:17:09\n",
       "2 2  398234252 2024-01-15 15:52:27 2024-01-15 16:07:53 00:15:26\n",
       "3 3  398244674 2024-01-15 17:45:00 2024-01-15 17:58:01 00:13:01\n",
       "4 4  398245976 2024-01-15 17:51:25 2024-01-15 18:10:48 00:19:23\n",
       "5 5  398254121 2024-01-15 14:23:43 2024-01-15 19:59:45 05:36:02"
      ]
     },
     "metadata": {},
     "output_type": "display_data"
    }
   ],
   "source": [
    "# baza1 bez nazw zmiennych\n",
    "baza2[1:5, 1:5]"
   ]
  },
  {
   "cell_type": "code",
   "execution_count": 9,
   "metadata": {
    "vscode": {
     "languageId": "r"
    }
   },
   "outputs": [],
   "source": [
    "baza2 <- baza2 %>%\n",
    "    rename(Czy_uczy = V11)"
   ]
  },
  {
   "cell_type": "code",
   "execution_count": 10,
   "metadata": {
    "vscode": {
     "languageId": "r"
    }
   },
   "outputs": [],
   "source": [
    "baza3 <- readxl::read_xlsx(\"/Users/stawager/Repos/dataAnalysisR_ifs2025/dane20250311/pracownicy UPJP2.xlsx\")"
   ]
  },
  {
   "cell_type": "code",
   "execution_count": 11,
   "metadata": {
    "vscode": {
     "languageId": "r"
    }
   },
   "outputs": [
    {
     "data": {
      "text/plain": [
       "  Lp. ID        Data.rozpoczęcia    Data.zakończenia   \n",
       "1 1   398227010 2024-01-15 14:45:40 2024-01-15 15:02:49\n",
       "2 2   398234252 2024-01-15 15:52:27 2024-01-15 16:07:53\n",
       "3 3   398244674 2024-01-15 17:45:00 2024-01-15 17:58:01\n",
       "4 4   398245976 2024-01-15 17:51:25 2024-01-15 18:10:48\n",
       "5 5   398254121 2024-01-15 14:23:43 2024-01-15 19:59:45\n",
       "  Całkowity.czas.wypełniania\n",
       "1 00:17:09                  \n",
       "2 00:15:26                  \n",
       "3 00:13:01                  \n",
       "4 00:19:23                  \n",
       "5 05:36:02                  "
      ]
     },
     "metadata": {},
     "output_type": "display_data"
    }
   ],
   "source": [
    "baza1[1:5, 1:5]"
   ]
  },
  {
   "cell_type": "code",
   "execution_count": 12,
   "metadata": {
    "vscode": {
     "languageId": "r"
    }
   },
   "outputs": [
    {
     "data": {
      "text/plain": [
       "  Lp. ID        Data rozpoczęcia Data zakończenia Całkowity czas wypełniania\n",
       "1 1   398227010 45306.62         45306.63         0.011909722               \n",
       "2 2   398234252 45306.66         45306.67         0.010717593               \n",
       "3 3   398244674 45306.74         45306.75         0.009039352               \n",
       "4 4   398245976 45306.74         45306.76         0.013460648               \n",
       "5 5   398254121 45306.60         45306.83         0.233356481               "
      ]
     },
     "metadata": {},
     "output_type": "display_data"
    }
   ],
   "source": [
    "baza3[1:5, 1:5]"
   ]
  },
  {
   "cell_type": "code",
   "execution_count": 13,
   "metadata": {
    "vscode": {
     "languageId": "r"
    }
   },
   "outputs": [],
   "source": [
    "baza4 <- haven::read_sav(\"/Users/stawager/Repos/dataAnalysisR_ifs2025/dane20250311/dataPLUS.sav\")"
   ]
  },
  {
   "cell_type": "code",
   "execution_count": 14,
   "metadata": {
    "vscode": {
     "languageId": "r"
    }
   },
   "outputs": [
    {
     "data": {
      "text/plain": [
       "  StartDate           EndDate             Status Progress Duration__in_seconds_\n",
       "1 2023-05-19 01:23:45 2023-05-19 01:34:02 0      100      616                  \n",
       "2 2023-05-19 01:24:06 2023-05-19 01:30:30 0      100      384                  \n",
       "3 2023-05-19 01:24:39 2023-05-19 01:40:31 0      100      951                  \n",
       "4 2023-05-19 01:24:48 2023-05-19 01:34:19 0      100      571                  \n",
       "5 2023-05-19 01:24:53 2023-05-19 01:27:37 0      100      164                  "
      ]
     },
     "metadata": {},
     "output_type": "display_data"
    }
   ],
   "source": [
    "baza4[1:5, 1:5]"
   ]
  },
  {
   "cell_type": "code",
   "execution_count": 15,
   "metadata": {
    "vscode": {
     "languageId": "r"
    }
   },
   "outputs": [
    {
     "data": {
      "text/plain": [
       "[1] 2178  129"
      ]
     },
     "metadata": {},
     "output_type": "display_data"
    }
   ],
   "source": [
    "dim(baza4)"
   ]
  },
  {
   "cell_type": "code",
   "execution_count": 16,
   "metadata": {
    "vscode": {
     "languageId": "r"
    }
   },
   "outputs": [
    {
     "data": {
      "text/plain": [
       " [1] \"UserLanguage\" \"consent\"      \"gender\"       \"age\"          \"edu.level\"   \n",
       " [6] \"edu.field\"    \"nationality\"  \"city\"         \"political.1\"  \"political.2\" \n",
       "[11] \"political.3\" "
      ]
     },
     "metadata": {},
     "output_type": "display_data"
    }
   ],
   "source": [
    "names(baza4)[10:20]"
   ]
  },
  {
   "cell_type": "markdown",
   "metadata": {},
   "source": [
    "___"
   ]
  },
  {
   "cell_type": "code",
   "execution_count": 17,
   "metadata": {
    "vscode": {
     "languageId": "r"
    }
   },
   "outputs": [
    {
     "data": {
      "text/plain": [
       "\n",
       "Jednostka ogólnouczelniana                    Wydział \n",
       "                        10                         26 "
      ]
     },
     "metadata": {},
     "output_type": "display_data"
    }
   ],
   "source": [
    "table(baza2$V7)"
   ]
  },
  {
   "cell_type": "code",
   "execution_count": 18,
   "metadata": {
    "vscode": {
     "languageId": "r"
    }
   },
   "outputs": [
    {
     "data": {
      "text/plain": [
       "\n",
       "     Nie      Tak \n",
       "33.33333 66.66667 "
      ]
     },
     "metadata": {},
     "output_type": "display_data"
    }
   ],
   "source": [
    "prop.table(table(baza2$Czy_uczy))*100"
   ]
  },
  {
   "cell_type": "code",
   "execution_count": 19,
   "metadata": {
    "vscode": {
     "languageId": "r"
    }
   },
   "outputs": [
    {
     "data": {
      "text/plain": [
       "[1] 4.941176"
      ]
     },
     "metadata": {},
     "output_type": "display_data"
    }
   ],
   "source": [
    "mean(baza2$V116, trim = .05)"
   ]
  },
  {
   "cell_type": "code",
   "execution_count": 20,
   "metadata": {
    "vscode": {
     "languageId": "r"
    }
   },
   "outputs": [
    {
     "data": {
      "text/plain": [
       "\n",
       "\tWelch Two Sample t-test\n",
       "\n",
       "data:  baza2$V116 by baza2$Czy_uczy\n",
       "t = -1.1973, df = 26.018, p-value = 0.242\n",
       "alternative hypothesis: true difference in means between group Nie and group Tak is not equal to 0\n",
       "95 percent confidence interval:\n",
       " -1.9243154  0.5076487\n",
       "sample estimates:\n",
       "mean in group Nie mean in group Tak \n",
       "         4.416667          5.125000 \n"
      ]
     },
     "metadata": {},
     "output_type": "display_data"
    }
   ],
   "source": [
    "t.test(baza2$V116 ~ baza2$Czy_uczy)"
   ]
  },
  {
   "cell_type": "code",
   "execution_count": 21,
   "metadata": {
    "vscode": {
     "languageId": "r"
    }
   },
   "outputs": [
    {
     "data": {
      "text/plain": [
       "\n",
       "         Kobieta        Mężczyzna Wolę nie podawać \n",
       "              17               14                5 "
      ]
     },
     "metadata": {},
     "output_type": "display_data"
    },
    {
     "data": {
      "text/plain": [
       "\n",
       "         Kobieta        Mężczyzna Wolę nie podawać \n",
       "           47.22            38.89            13.89 "
      ]
     },
     "metadata": {},
     "output_type": "display_data"
    }
   ],
   "source": [
    "table(baza2$V143)\n",
    "round(prop.table(table(baza2$V143))*100, 2)"
   ]
  },
  {
   "cell_type": "code",
   "execution_count": 22,
   "metadata": {
    "vscode": {
     "languageId": "r"
    }
   },
   "outputs": [
    {
     "data": {
      "text/plain": [
       "            Df Sum Sq Mean Sq F value Pr(>F)\n",
       "baza2$V143   2   0.16   0.078   0.023  0.977\n",
       "Residuals   33 111.40   3.376               "
      ]
     },
     "metadata": {},
     "output_type": "display_data"
    }
   ],
   "source": [
    "summary(aov(baza2$V116 ~ baza2$V143))"
   ]
  },
  {
   "cell_type": "markdown",
   "metadata": {},
   "source": [
    "___"
   ]
  },
  {
   "cell_type": "code",
   "execution_count": 23,
   "metadata": {
    "vscode": {
     "languageId": "r"
    }
   },
   "outputs": [
    {
     "data": {
      "text/plain": [
       "[1] 36"
      ]
     },
     "metadata": {},
     "output_type": "display_data"
    }
   ],
   "source": [
    "nrow(baza2)"
   ]
  },
  {
   "cell_type": "code",
   "execution_count": 24,
   "metadata": {
    "vscode": {
     "languageId": "r"
    }
   },
   "outputs": [
    {
     "data": {
      "text/plain": [
       "[1] 31"
      ]
     },
     "metadata": {},
     "output_type": "display_data"
    }
   ],
   "source": [
    "baza2 %>%\n",
    "    filter(V143 != \"Wolę nie podawać\") %>%\n",
    "    nrow()"
   ]
  },
  {
   "cell_type": "code",
   "execution_count": 25,
   "metadata": {
    "vscode": {
     "languageId": "r"
    }
   },
   "outputs": [
    {
     "data": {
      "text/plain": [
       "[1] 189"
      ]
     },
     "metadata": {},
     "output_type": "display_data"
    }
   ],
   "source": [
    "ncol(baza3)"
   ]
  },
  {
   "cell_type": "code",
   "execution_count": 26,
   "metadata": {
    "vscode": {
     "languageId": "r"
    }
   },
   "outputs": [
    {
     "data": {
      "text/plain": [
       "[1] 15"
      ]
     },
     "metadata": {},
     "output_type": "display_data"
    }
   ],
   "source": [
    "baza3 %>%\n",
    "    select(c(1:11, starts_with(\"14g\"))) %>%\n",
    "    ncol()"
   ]
  },
  {
   "cell_type": "code",
   "execution_count": 27,
   "metadata": {
    "vscode": {
     "languageId": "r"
    }
   },
   "outputs": [
    {
     "data": {
      "text/plain": [
       "   rok_urodzenia wiek\n",
       "1  1525          500 \n",
       "2  1900          125 \n",
       "3  1900          125 \n",
       "4  1961           64 \n",
       "5  1963           62 \n",
       "6  1965           60 \n",
       "7  1965           60 \n",
       "8  1965           60 \n",
       "9  1968           57 \n",
       "10 1968           57 "
      ]
     },
     "metadata": {},
     "output_type": "display_data"
    }
   ],
   "source": [
    "baza2 %>%\n",
    "    mutate(wiek = 2025-V144) %>%\n",
    "    select(V144, wiek) %>%\n",
    "    rename(rok_urodzenia = V144) %>%\n",
    "    arrange(desc(wiek)) %>%\n",
    "    head(10)"
   ]
  },
  {
   "cell_type": "markdown",
   "metadata": {
    "vscode": {
     "languageId": "r"
    }
   },
   "source": [
    "___"
   ]
  },
  {
   "cell_type": "code",
   "execution_count": 28,
   "metadata": {
    "vscode": {
     "languageId": "r"
    }
   },
   "outputs": [
    {
     "data": {
      "text/plain": [
       "[1] \"X3A..Czy.prowadzi.Pani.Pan.zajęcia.dydaktyczne.\""
      ]
     },
     "metadata": {},
     "output_type": "display_data"
    }
   ],
   "source": [
    "names(baza1)[11]"
   ]
  },
  {
   "cell_type": "code",
   "execution_count": 29,
   "metadata": {
    "vscode": {
     "languageId": "r"
    }
   },
   "outputs": [],
   "source": [
    "baza_new <- baza2 %>% \n",
    "    filter(Czy_uczy == \"Tak\") \n",
    "    # select(-(1:(ncol(baza2)-10))) %>%\n"
   ]
  },
  {
   "cell_type": "code",
   "execution_count": 30,
   "metadata": {
    "vscode": {
     "languageId": "r"
    }
   },
   "outputs": [
    {
     "data": {
      "text/plain": [
       "\n",
       "             Doktor Doktor habilitowany            Magister            Profesor \n",
       "                 12                   7                   2                   3 "
      ]
     },
     "metadata": {},
     "output_type": "display_data"
    }
   ],
   "source": [
    "table(baza_new$V146)"
   ]
  },
  {
   "cell_type": "code",
   "execution_count": 31,
   "metadata": {
    "vscode": {
     "languageId": "r"
    }
   },
   "outputs": [
    {
     "data": {
      "text/plain": [
       "\n",
       "             Doktor Doktor habilitowany            Magister            Profesor \n",
       "              50.00               29.17                8.33               12.50 "
      ]
     },
     "metadata": {},
     "output_type": "display_data"
    }
   ],
   "source": [
    "round(prop.table(table(baza_new$V146))*100, 2)"
   ]
  },
  {
   "cell_type": "code",
   "execution_count": 32,
   "metadata": {
    "vscode": {
     "languageId": "r"
    }
   },
   "outputs": [],
   "source": [
    "baza_new <- baza_new %>% \n",
    "    select(-(1:(ncol(baza_new)-10)))"
   ]
  },
  {
   "cell_type": "code",
   "execution_count": 33,
   "metadata": {
    "vscode": {
     "languageId": "r"
    }
   },
   "outputs": [
    {
     "data": {
      "text/plain": [
       " [1] \"V180\" \"V181\" \"V182\" \"V183\" \"V184\" \"V185\" \"V186\" \"V187\" \"V188\" \"V189\""
      ]
     },
     "metadata": {},
     "output_type": "display_data"
    }
   ],
   "source": [
    "names(baza_new)"
   ]
  },
  {
   "cell_type": "code",
   "execution_count": 34,
   "metadata": {
    "vscode": {
     "languageId": "r"
    }
   },
   "outputs": [],
   "source": [
    "#TODO: polaczyc 4 csv studentow po nazwie uczelni"
   ]
  },
  {
   "cell_type": "code",
   "execution_count": null,
   "metadata": {
    "vscode": {
     "languageId": "r"
    }
   },
   "outputs": [],
   "source": []
  }
 ],
 "metadata": {
  "kernelspec": {
   "display_name": "R",
   "language": "R",
   "name": "ir"
  },
  "language_info": {
   "codemirror_mode": "r",
   "file_extension": ".r",
   "mimetype": "text/x-r-source",
   "name": "R",
   "pygments_lexer": "r",
   "version": "4.4.2"
  }
 },
 "nbformat": 4,
 "nbformat_minor": 2
}
